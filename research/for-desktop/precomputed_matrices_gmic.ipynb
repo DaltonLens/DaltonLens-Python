{
 "cells": [
  {
   "cell_type": "code",
   "execution_count": 1,
   "id": "920d306f",
   "metadata": {},
   "outputs": [],
   "source": [
    "%load_ext autoreload\n",
    "%autoreload 2"
   ]
  },
  {
   "cell_type": "code",
   "execution_count": 4,
   "id": "ebeb2d46-a94d-4f01-af3f-2b1c6f000b16",
   "metadata": {},
   "outputs": [],
   "source": [
    "import io, math, os, sys\n",
    "from IPython.core.display import HTML\n",
    "\n",
    "import numpy as np\n",
    "\n",
    "# Install daltonlens if necessary\n",
    "try:\n",
    "    from daltonlens import convert, simulate\n",
    "except ImportError:\n",
    "    !pip install -q daltonlens\n",
    "    from daltonlens import convert, simulate\n",
    "\n",
    "def printMatrix(name, m, severity):\n",
    "    m = severity*m + (1.0-severity)*np.identity(3)\n",
    "    print(name)\n",
    "    print(f\"({m[0,0]:.5f},{m[0,1]:.5f},{m[0,2]:.5f};{m[1,0]:.5f},{m[1,1]:.5f},{m[1,2]:.5f};{m[2,0]:.5f},{m[2,1]:.5f},{m[2,2]:.5f})\")\n",
    "    print()"
   ]
  },
  {
   "cell_type": "markdown",
   "id": "d0420bab",
   "metadata": {},
   "source": [
    "# Introduction\n",
    "\n",
    "The chosen model is Viénot, Brettel and Mollon 1999 _Digital video colourmaps for checking the legibility of displays by dichromats. Color Research & Application_ because it reduces to a single matrix in linear RGB space.\n",
    "\n",
    "Anomalous trichromacy is handled via linear interpolation with the original image.\n",
    "\n",
    "An alternative with a single matrix would be the Machado 2009 model: https://www.inf.ufrgs.br/~oliveira/pubs_files/CVD_Simulation/CVD_Simulation.html \n",
    "\n",
    "The Viénot 1999 single matrix model is not great for tritanopia, ideally we'd use the Brettel, Viénot and Mollon 1997 model _Computerized simulation of color appearance for dichromats_. This is left as future work.\n",
    "\n",
    "For more information about CVD simulation models, see https://daltonlens.org/opensource-cvd-simulation/ and https://daltonlens.org/understanding-cvd-simulation/ ."
   ]
  },
  {
   "cell_type": "code",
   "execution_count": 6,
   "id": "b1ba1b91-cab4-48ba-a27e-919cb404bb6a",
   "metadata": {},
   "outputs": [
    {
     "name": "stdout",
     "output_type": "stream",
     "text": [
      "protanopia\n",
      "(0.10889,0.89111,-0.00000;0.10889,0.89111,0.00000;0.00447,-0.00447,1.00000)\n",
      "\n",
      "protanomaly\n",
      "(0.46533,0.53467,-0.00000;0.06533,0.93467,0.00000;0.00268,-0.00268,1.00000)\n",
      "\n",
      "deuteranopia\n",
      "(0.29031,0.70969,-0.00000;0.29031,0.70969,-0.00000;-0.02197,0.02197,1.00000)\n",
      "\n",
      "deuteranomaly\n",
      "(0.57418,0.42582,-0.00000;0.17418,0.82582,-0.00000;-0.01318,0.01318,1.00000)\n",
      "\n",
      "tritanopia\n",
      "(1.00000,0.15236,-0.15236;0.00000,0.86717,0.13283;-0.00000,0.86717,0.13283)\n",
      "\n",
      "tritanomaly\n",
      "(1.00000,0.09142,-0.09142;0.00000,0.92030,0.07970;-0.00000,0.52030,0.47970)\n",
      "\n"
     ]
    }
   ],
   "source": [
    "simulator = simulate.Simulator_Vienot1999(convert.LMSModel_sRGB_SmithPokorny75())\n",
    "simulator.dumpPrecomputedValues = False\n",
    "\n",
    "simulator.simulate_cvd(np.zeros((1,1,3), dtype=np.uint8), simulate.Deficiency.PROTAN, severity=1.0)\n",
    "printMatrix(\"protanopia\", simulator.cvd_linear_rgb, 1.0)\n",
    "printMatrix(\"protanomaly\", simulator.cvd_linear_rgb, 0.6)\n",
    "\n",
    "simulator.simulate_cvd(np.zeros((1,1,3), dtype=np.uint8), simulate.Deficiency.DEUTAN, severity=1.0)\n",
    "printMatrix(\"deuteranopia\", simulator.cvd_linear_rgb, 1.0)\n",
    "printMatrix(\"deuteranomaly\", simulator.cvd_linear_rgb, 0.6)\n",
    "\n",
    "simulator.simulate_cvd(np.zeros((1,1,3), dtype=np.uint8), simulate.Deficiency.TRITAN, severity=1.0)\n",
    "printMatrix(\"tritanopia\", simulator.cvd_linear_rgb, 1.0)\n",
    "printMatrix(\"tritanomaly\", simulator.cvd_linear_rgb, 0.6)"
   ]
  },
  {
   "cell_type": "code",
   "execution_count": null,
   "id": "bdb192cb-f1b8-45ae-abf0-e4a40a9c115d",
   "metadata": {},
   "outputs": [],
   "source": []
  }
 ],
 "metadata": {
  "interpreter": {
   "hash": "31f2aee4e71d21fbe5cf8b01ff0e069b9275f58929596ceb00d14d90e3e16cd6"
  },
  "kernelspec": {
   "display_name": "Python 3.8.10 64-bit",
   "name": "python3"
  },
  "language_info": {
   "codemirror_mode": {
    "name": "ipython",
    "version": 3
   },
   "file_extension": ".py",
   "mimetype": "text/x-python",
   "name": "python",
   "nbconvert_exporter": "python",
   "pygments_lexer": "ipython3",
   "version": "3.8.10"
  }
 },
 "nbformat": 4,
 "nbformat_minor": 5
}
