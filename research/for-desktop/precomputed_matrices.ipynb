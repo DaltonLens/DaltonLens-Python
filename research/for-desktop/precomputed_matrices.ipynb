{
 "cells": [
  {
   "cell_type": "code",
   "execution_count": 1,
   "id": "920d306f",
   "metadata": {},
   "outputs": [],
   "source": [
    "%load_ext autoreload\n",
    "%autoreload 2"
   ]
  },
  {
   "cell_type": "code",
   "execution_count": 8,
   "id": "ebeb2d46-a94d-4f01-af3f-2b1c6f000b16",
   "metadata": {},
   "outputs": [],
   "source": [
    "import io, math, os, sys\n",
    "from base64 import b64decode\n",
    "from pathlib import Path\n",
    "from IPython.core.display import HTML\n",
    "\n",
    "import matplotlib.pyplot as plt\n",
    "import numpy as np\n",
    "\n",
    "import PIL\n",
    "\n",
    "# Install daltonlens if necessary\n",
    "try:\n",
    "    from daltonlens import convert, simulate, utils\n",
    "except ImportError:\n",
    "    !pip install -q daltonlens\n",
    "    from daltonlens import convert, simulate, utils\n",
    "    \n",
    "# Uncomment to get interactive plots.\n",
    "# %matplotlib notebook"
   ]
  },
  {
   "cell_type": "markdown",
   "id": "a14edad2-dbd7-4ab2-b50b-062ed657e179",
   "metadata": {},
   "source": [
    "# Introduction\n",
    "\n",
    "Goal is to generate the precomputed matrices / parameters needed by libDaltonLens or DaltonLens desktop."
   ]
  },
  {
   "cell_type": "markdown",
   "id": "adaa213e-8d24-430c-ab06-4f329fd0a60e",
   "metadata": {},
   "source": [
    "# Brettel 1997 with sRGB"
   ]
  },
  {
   "cell_type": "code",
   "execution_count": 19,
   "id": "variable-schema",
   "metadata": {},
   "outputs": [
    {
     "name": "stdout",
     "output_type": "stream",
     "text": [
      "static float LMS_from_linearRGB[] = {\n",
      "    0.17882, 0.43516, 0.04119,\n",
      "    0.03456, 0.27155, 0.03867,\n",
      "    0.00030, 0.00184, 0.01467\n",
      "};\n",
      "static float linearRGB_from_LMS[] = {\n",
      "    8.09444, -13.05043, 11.67206,\n",
      "    -1.02485, 5.40193, -11.36147,\n",
      "    -0.03653, -0.41216, 69.35132\n",
      "};\n"
     ]
    }
   ],
   "source": [
    "print (utils.array_to_C_decl('LMS_from_linearRGB', convert.LMSModel_sRGB_SmithPokorny75().LMS_from_linearRGB))\n",
    "print (utils.array_to_C_decl('linearRGB_from_LMS', convert.LMSModel_sRGB_SmithPokorny75().linearRGB_from_LMS))"
   ]
  },
  {
   "cell_type": "code",
   "execution_count": 18,
   "id": "879f72cb-f3a6-46cc-b22c-bfcc9f38ec66",
   "metadata": {},
   "outputs": [
    {
     "name": "stdout",
     "output_type": "stream",
     "text": [
      "\n",
      "struct DLBrettel1997Params\n",
      "{\n",
      "    // Transformation using plane 1 == rgbFromLms . projection1 . lmsFromRgb\n",
      "    float rgbCvdFromRgb_1[9];\n",
      "    \n",
      "    // Full transformation using plane 2 == rgbFromLms . projection2 . lmsFromRgb\n",
      "    float rgbCvdFromRgb_2[9];\n",
      "\n",
      "    // Normal of the separation plane to pick the right transform, already in the RGB space.\n",
      "    // == normalInLms . lmsFromRgb\n",
      "    float separationPlaneNormalInRgb[3];\n",
      "};\n",
      "\n",
      "static struct DLBrettel1997Params brettel_protan_params = {\n",
      "    {\n",
      "        0.14980, 1.19548, -0.34528,\n",
      "        0.10764, 0.84864, 0.04372,\n",
      "        0.00384, -0.00540, 1.00156,\n",
      "    },\n",
      "    {\n",
      "        0.14570, 1.16172, -0.30742,\n",
      "        0.10816, 0.85291, 0.03892,\n",
      "        0.00386, -0.00524, 1.00139,\n",
      "    },\n",
      "    { 0.00048, 0.00393, -0.00441 }\n",
      "};\n",
      "\n",
      "struct DLBrettel1997Params\n",
      "{\n",
      "    // Transformation using plane 1 == rgbFromLms . projection1 . lmsFromRgb\n",
      "    float rgbCvdFromRgb_1[9];\n",
      "    \n",
      "    // Full transformation using plane 2 == rgbFromLms . projection2 . lmsFromRgb\n",
      "    float rgbCvdFromRgb_2[9];\n",
      "\n",
      "    // Normal of the separation plane to pick the right transform, already in the RGB space.\n",
      "    // == normalInLms . lmsFromRgb\n",
      "    float separationPlaneNormalInRgb[3];\n",
      "};\n",
      "\n",
      "static struct DLBrettel1997Params brettel_deutan_params = {\n",
      "    {\n",
      "        0.36477, 0.86381, -0.22858,\n",
      "        0.26294, 0.64245, 0.09462,\n",
      "        -0.02006, 0.02728, 0.99278,\n",
      "    },\n",
      "    {\n",
      "        0.37298, 0.88166, -0.25464,\n",
      "        0.25954, 0.63506, 0.10540,\n",
      "        -0.01980, 0.02784, 0.99196,\n",
      "    },\n",
      "    { -0.00281, -0.00611, 0.00892 }\n",
      "};\n",
      "\n",
      "struct DLBrettel1997Params\n",
      "{\n",
      "    // Transformation using plane 1 == rgbFromLms . projection1 . lmsFromRgb\n",
      "    float rgbCvdFromRgb_1[9];\n",
      "    \n",
      "    // Full transformation using plane 2 == rgbFromLms . projection2 . lmsFromRgb\n",
      "    float rgbCvdFromRgb_2[9];\n",
      "\n",
      "    // Normal of the separation plane to pick the right transform, already in the RGB space.\n",
      "    // == normalInLms . lmsFromRgb\n",
      "    float separationPlaneNormalInRgb[3];\n",
      "};\n",
      "\n",
      "static struct DLBrettel1997Params brettel_tritan_params = {\n",
      "    {\n",
      "        1.01277, 0.13548, -0.14826,\n",
      "        -0.01243, 0.86812, 0.14431,\n",
      "        0.07589, 0.80500, 0.11911,\n",
      "    },\n",
      "    {\n",
      "        0.93678, 0.18979, -0.12657,\n",
      "        0.06154, 0.81526, 0.12320,\n",
      "        -0.37562, 1.12767, 0.24796,\n",
      "    },\n",
      "    { 0.03901, -0.02788, -0.01113 }\n",
      "};\n",
      "static float brettel1997_tritan_normalSepPlaneLMS[] = {\n",
      "    0.34478, -0.65518, 0.00000\n",
      "};\n",
      "static float brettel1997_tritan_H1[] = {\n",
      "    1.00000, 0.00000, 0.00000,\n",
      "    0.00000, 1.00000, 0.00000,\n",
      "    -0.00257, 0.05366, 0.00000\n",
      "};\n",
      "static float brettel1997_tritan_H2[] = {\n",
      "    1.00000, 0.00000, 0.00000,\n",
      "    0.00000, 1.00000, 0.00000,\n",
      "    -0.06011, 0.16299, 0.00000\n",
      "};\n"
     ]
    }
   ],
   "source": [
    "simulator = simulate.Simulator_Brettel1997(convert.LMSModel_sRGB_SmithPokorny75(), use_white_as_neutral=True)\n",
    "simulator.dumpPrecomputedValues = True\n",
    "np.set_printoptions(precision=4, suppress=True)\n",
    "\n",
    "simulator.simulate_cvd(np.zeros((1,1,3), dtype=np.uint8), simulate.Deficiency.PROTAN, severity=1.0)\n",
    "simulator.simulate_cvd(np.zeros((1,1,3), dtype=np.uint8), simulate.Deficiency.DEUTAN, severity=1.0)\n",
    "simulator.simulate_cvd(np.zeros((1,1,3), dtype=np.uint8), simulate.Deficiency.TRITAN, severity=1.0)\n",
    "print (utils.array_to_C_decl('brettel1997_tritan_normalSepPlaneLMS', simulator.n_sep_plane))\n",
    "print (utils.array_to_C_decl('brettel1997_tritan_H1', simulator.H1))\n",
    "print (utils.array_to_C_decl('brettel1997_tritan_H2', simulator.H2))"
   ]
  },
  {
   "cell_type": "markdown",
   "id": "13b56905-2557-4658-b0dd-658f33e31ece",
   "metadata": {},
   "source": [
    "# Viénot 1999 with sRGB"
   ]
  },
  {
   "cell_type": "code",
   "execution_count": 15,
   "id": "b1ba1b91-cab4-48ba-a27e-919cb404bb6a",
   "metadata": {},
   "outputs": [
    {
     "name": "stdout",
     "output_type": "stream",
     "text": [
      "static float vienot_protan_rgbCvd_from_rgb[] = {\n",
      "    0.11238, 0.88762, 0.00000,\n",
      "    0.11238, 0.88762, -0.00000,\n",
      "    0.00401, -0.00401, 1.00000\n",
      "};\n",
      "static float vienot_projection_protan[] = {\n",
      "    0.00000, 2.02344, -2.52580,\n",
      "    0.00000, 1.00000, 0.00000,\n",
      "    0.00000, 0.00000, 1.00000\n",
      "};\n",
      "static float vienot_deutan_rgbCvd_from_rgb[] = {\n",
      "    0.29275, 0.70725, 0.00000,\n",
      "    0.29275, 0.70725, -0.00000,\n",
      "    -0.02234, 0.02234, 1.00000\n",
      "};\n",
      "static float vienot_projection_deutan[] = {\n",
      "    1.00000, 0.00000, 0.00000,\n",
      "    0.49421, 0.00000, 1.24827,\n",
      "    0.00000, 0.00000, 1.00000\n",
      "};\n",
      "static float vienot_tritan_rgbCvd_from_rgb[] = {\n",
      "    1.00000, 0.14461, -0.14461,\n",
      "    0.00000, 0.85924, 0.14076,\n",
      "    -0.00000, 0.85924, 0.14076\n",
      "};\n",
      "static float vienot_projection_tritan[] = {\n",
      "    1.00000, 0.00000, 0.00000,\n",
      "    0.00000, 1.00000, 0.00000,\n",
      "    -0.01224, 0.07203, 0.00000\n",
      "};\n"
     ]
    }
   ],
   "source": [
    "simulator = simulate.Simulator_Vienot1999(convert.LMSModel_sRGB_SmithPokorny75())\n",
    "simulator.dumpPrecomputedValues = True\n",
    "np.set_printoptions(precision=4, suppress=True)\n",
    "\n",
    "simulator.simulate_cvd(np.zeros((1,1,3), dtype=np.uint8), simulate.Deficiency.PROTAN, severity=1.0)\n",
    "print (utils.array_to_C_decl('vienot_projection_protan', simulator.lms_projection_matrix))\n",
    "\n",
    "simulator.simulate_cvd(np.zeros((1,1,3), dtype=np.uint8), simulate.Deficiency.DEUTAN, severity=1.0)\n",
    "print (utils.array_to_C_decl('vienot_projection_deutan', simulator.lms_projection_matrix))\n",
    "\n",
    "simulator.simulate_cvd(np.zeros((1,1,3), dtype=np.uint8), simulate.Deficiency.TRITAN, severity=1.0)\n",
    "print (utils.array_to_C_decl('vienot_projection_tritan', simulator.lms_projection_matrix))"
   ]
  },
  {
   "cell_type": "markdown",
   "id": "03a8ea55-f03b-4f2f-a756-46a72cca65ae",
   "metadata": {},
   "source": [
    "# Brettel with Vischeck parameters"
   ]
  },
  {
   "cell_type": "code",
   "execution_count": 5,
   "id": "joint-ready",
   "metadata": {},
   "outputs": [
    {
     "name": "stdout",
     "output_type": "stream",
     "text": [
      "\n",
      "struct DLBrettel1997Params\n",
      "{\n",
      "    // Transformation using plane 1 == rgbFromLms . projection1 . lmsFromRgb\n",
      "    float rgbCvdFromRgb_1[9];\n",
      "    \n",
      "    // Full transformation using plane 2 == rgbFromLms . projection2 . lmsFromRgb\n",
      "    float rgbCvdFromRgb_2[9];\n",
      "\n",
      "    // Normal of the separation plane to pick the right transform, already in the RGB space.\n",
      "    // == normalInLms . lmsFromRgb\n",
      "    float separationPlaneNormalInRgb[3];\n",
      "};\n",
      "\n",
      "static struct DLBrettel1997Params brettel_protan_params = {\n",
      "    {\n",
      "        0.20611, 0.99192, -0.19803,\n",
      "        0.16690, 0.79147, 0.04163,\n",
      "        0.00967, -0.01209, 1.00241,\n",
      "    },\n",
      "    {\n",
      "        0.20993, 1.01140, -0.22133,\n",
      "        0.16609, 0.78738, 0.04653,\n",
      "        0.00963, -0.01232, 1.00270,\n",
      "    },\n",
      "    { 0.00124, 0.00632, -0.00756 }\n",
      "};\n",
      "\n",
      "struct DLBrettel1997Params\n",
      "{\n",
      "    // Transformation using plane 1 == rgbFromLms . projection1 . lmsFromRgb\n",
      "    float rgbCvdFromRgb_1[9];\n",
      "    \n",
      "    // Full transformation using plane 2 == rgbFromLms . projection2 . lmsFromRgb\n",
      "    float rgbCvdFromRgb_2[9];\n",
      "\n",
      "    // Normal of the separation plane to pick the right transform, already in the RGB space.\n",
      "    // == normalInLms . lmsFromRgb\n",
      "    float separationPlaneNormalInRgb[3];\n",
      "};\n",
      "\n",
      "static struct DLBrettel1997Params brettel_deutan_params = {\n",
      "    {\n",
      "        0.43549, 0.72265, -0.15814,\n",
      "        0.33522, 0.57087, 0.09391,\n",
      "        -0.02269, 0.02905, 0.99364,\n",
      "    },\n",
      "    {\n",
      "        0.42922, 0.71316, -0.14238,\n",
      "        0.33895, 0.57650, 0.08455,\n",
      "        -0.02294, 0.02866, 0.99428,\n",
      "    },\n",
      "    { -0.00383, -0.00580, 0.00963 }\n",
      "};\n",
      "\n",
      "struct DLBrettel1997Params\n",
      "{\n",
      "    // Transformation using plane 1 == rgbFromLms . projection1 . lmsFromRgb\n",
      "    float rgbCvdFromRgb_1[9];\n",
      "    \n",
      "    // Full transformation using plane 2 == rgbFromLms . projection2 . lmsFromRgb\n",
      "    float rgbCvdFromRgb_2[9];\n",
      "\n",
      "    // Normal of the separation plane to pick the right transform, already in the RGB space.\n",
      "    // == normalInLms . lmsFromRgb\n",
      "    float separationPlaneNormalInRgb[3];\n",
      "};\n",
      "\n",
      "static struct DLBrettel1997Params brettel_tritan_params = {\n",
      "    {\n",
      "        1.01372, 0.08549, -0.09921,\n",
      "        -0.02157, 0.86556, 0.15601,\n",
      "        0.12159, 0.75769, 0.12072,\n",
      "    },\n",
      "    {\n",
      "        0.94891, 0.13432, -0.08323,\n",
      "        0.08035, 0.78877, 0.13089,\n",
      "        -0.45283, 1.19050, 0.26232,\n",
      "    },\n",
      "    { 0.00340, -0.00256, -0.00084 }\n",
      "};\n"
     ]
    },
    {
     "data": {
      "text/plain": [
       "array([[[0, 0, 0]]], dtype=uint8)"
      ]
     },
     "execution_count": 5,
     "metadata": {},
     "output_type": "execute_result"
    }
   ],
   "source": [
    "simulator = simulate.Simulator_Vischeck()\n",
    "simulator.dumpPrecomputedValues = True\n",
    "simulator.simulate_cvd(np.zeros((1,1,3), dtype=np.uint8), simulate.Deficiency.PROTAN, severity=1.0)\n",
    "simulator.simulate_cvd(np.zeros((1,1,3), dtype=np.uint8), simulate.Deficiency.DEUTAN, severity=1.0)\n",
    "simulator.simulate_cvd(np.zeros((1,1,3), dtype=np.uint8), simulate.Deficiency.TRITAN, severity=1.0)"
   ]
  },
  {
   "cell_type": "code",
   "execution_count": null,
   "id": "bdb192cb-f1b8-45ae-abf0-e4a40a9c115d",
   "metadata": {},
   "outputs": [],
   "source": []
  },
  {
   "cell_type": "code",
   "execution_count": null,
   "id": "4a74bd61",
   "metadata": {},
   "outputs": [],
   "source": []
  }
 ],
 "metadata": {
  "kernelspec": {
   "display_name": "Python 3",
   "language": "python",
   "name": "python3"
  },
  "language_info": {
   "codemirror_mode": {
    "name": "ipython",
    "version": 3
   },
   "file_extension": ".py",
   "mimetype": "text/x-python",
   "name": "python",
   "nbconvert_exporter": "python",
   "pygments_lexer": "ipython3",
   "version": "3.7.6"
  }
 },
 "nbformat": 4,
 "nbformat_minor": 5
}
