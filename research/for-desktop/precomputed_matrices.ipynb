{
 "cells": [
  {
   "cell_type": "code",
   "execution_count": null,
   "id": "920d306f",
   "metadata": {},
   "outputs": [],
   "source": [
    "%load_ext autoreload\n",
    "%autoreload 2"
   ]
  },
  {
   "cell_type": "code",
   "execution_count": null,
   "id": "extended-length",
   "metadata": {},
   "outputs": [],
   "source": [
    "import io, math, os, sys\n",
    "from base64 import b64decode\n",
    "from pathlib import Path\n",
    "from IPython.core.display import HTML\n",
    "\n",
    "import matplotlib.pyplot as plt\n",
    "import numpy as np\n",
    "\n",
    "import PIL\n",
    "\n",
    "# Install daltonlens if necessary\n",
    "try:\n",
    "    from daltonlens import convert, simulate\n",
    "except ImportError:\n",
    "    !pip install -q daltonlens\n",
    "    from daltonlens import convert, simulate\n",
    "    \n",
    "# Uncomment to get interactive plots.\n",
    "# %matplotlib notebook\n",
    "\n",
    "simulator = simulate.Simulator_Vienot1999(convert.LMSModel_sRGB_SmithPokorny75())\n",
    "np.set_printoptions(precision=5, suppress=True)\n",
    "display('LMS_from_RGB (Pokorny)', simulator.color_model.LMS_from_linearRGB)\n",
    "display('RGB_from_LMS (Pokorny)', simulator.color_model.linearRGB_from_LMS)\n",
    "\n",
    "simulator.simulate_cvd(np.zeros((1,1,3), dtype=np.uint8), simulate.Deficiency.DEUTAN, severity=1.0)\n",
    "display('Projection matrix', simulator.lms_projection_matrix)\n",
    "\n",
    "simulator = simulate.Simulator_Vienot1999(convert.LMSModel_Vienot1999_SmithPokorny75())\n",
    "np.set_printoptions(precision=4, suppress=True)\n",
    "display('LMS_from_RGB (Vienot1999)', simulator.color_model.LMS_from_linearRGB)\n",
    "display('RGB_from_LMS (Vienot1999)', simulator.color_model.linearRGB_from_LMS)"
   ]
  },
  {
   "cell_type": "code",
   "execution_count": null,
   "id": "joint-ready",
   "metadata": {},
   "outputs": [],
   "source": []
  }
 ],
 "metadata": {
  "kernelspec": {
   "display_name": "Python 3 (ipykernel)",
   "language": "python",
   "name": "python3"
  },
  "language_info": {
   "codemirror_mode": {
    "name": "ipython",
    "version": 3
   },
   "file_extension": ".py",
   "mimetype": "text/x-python",
   "name": "python",
   "nbconvert_exporter": "python",
   "pygments_lexer": "ipython3",
   "version": "3.8.10"
  }
 },
 "nbformat": 4,
 "nbformat_minor": 5
}
