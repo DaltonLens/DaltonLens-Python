{
 "cells": [
  {
   "cell_type": "code",
   "execution_count": 1,
   "id": "920d306f",
   "metadata": {},
   "outputs": [],
   "source": [
    "%load_ext autoreload\n",
    "%autoreload 2"
   ]
  },
  {
   "cell_type": "code",
   "execution_count": 2,
   "id": "ebeb2d46-a94d-4f01-af3f-2b1c6f000b16",
   "metadata": {},
   "outputs": [],
   "source": [
    "import io, math, os, sys\n",
    "from base64 import b64decode\n",
    "from pathlib import Path\n",
    "from IPython.core.display import HTML\n",
    "\n",
    "import matplotlib.pyplot as plt\n",
    "import numpy as np\n",
    "\n",
    "import PIL\n",
    "\n",
    "# Install daltonlens if necessary\n",
    "try:\n",
    "    from daltonlens import convert, simulate\n",
    "except ImportError:\n",
    "    !pip install -q daltonlens\n",
    "    from daltonlens import convert, simulate\n",
    "    \n",
    "# Uncomment to get interactive plots.\n",
    "# %matplotlib notebook"
   ]
  },
  {
   "cell_type": "markdown",
   "id": "a14edad2-dbd7-4ab2-b50b-062ed657e179",
   "metadata": {},
   "source": [
    "# Introduction\n",
    "\n",
    "Goal is to generate the precomputed matrices / parameters needed by libDaltonLens or DaltonLens desktop."
   ]
  },
  {
   "cell_type": "markdown",
   "id": "adaa213e-8d24-430c-ab06-4f329fd0a60e",
   "metadata": {},
   "source": [
    "# Brettel 1997 with sRGB"
   ]
  },
  {
   "cell_type": "code",
   "execution_count": 7,
   "id": "879f72cb-f3a6-46cc-b22c-bfcc9f38ec66",
   "metadata": {},
   "outputs": [
    {
     "name": "stdout",
     "output_type": "stream",
     "text": [
      "static float LMS_from_linearRGB[] = {\n",
      "    0.17886, 0.43997, 0.03597,\n",
      "    0.03380, 0.27515, 0.03621,\n",
      "    0.00031, 0.00192, 0.01528\n",
      "};\n",
      "\n",
      "static float linearRGB_from_LMS[] = {\n",
      "    8.00533, -12.88195, 11.68065,\n",
      "    -0.97821, 5.26945, -10.18300,\n",
      "    -0.04017, -0.39885, 66.48079\n",
      "};\n",
      "\n",
      "struct DLBrettel1997Params\n",
      "{\n",
      "    int lmsElementToProject;\n",
      "    float projectionOnPlane1[3];\n",
      "    float projectionOnPlane2[3];\n",
      "    float separationPlaneNormal[3];\n",
      "};\n",
      "\n",
      "static struct DLBrettel1997Params brettel_protan_params = {\n",
      "    0, // only this LMS coordinate is affected for protan\n",
      "    { 0.00000, 2.18394, -5.65554 }, // Projection to plane 1\n",
      "    { 0.00000, 2.16614, -5.30455 }, // Projection to plane 2\n",
      "    { 0.00000, 0.01751, -0.34516 }  // Normal of the separation plane to pick the projection plane.\n",
      "};\n",
      "static float LMS_from_linearRGB[] = {\n",
      "    0.17886, 0.43997, 0.03597,\n",
      "    0.03380, 0.27515, 0.03621,\n",
      "    0.00031, 0.00192, 0.01528\n",
      "};\n",
      "\n",
      "static float linearRGB_from_LMS[] = {\n",
      "    8.00533, -12.88195, 11.68065,\n",
      "    -0.97821, 5.26945, -10.18300,\n",
      "    -0.04017, -0.39885, 66.48079\n",
      "};\n",
      "\n",
      "struct DLBrettel1997Params\n",
      "{\n",
      "    int lmsElementToProject;\n",
      "    float projectionOnPlane1[3];\n",
      "    float projectionOnPlane2[3];\n",
      "    float separationPlaneNormal[3];\n",
      "};\n",
      "\n",
      "static struct DLBrettel1997Params brettel_deutan_params = {\n",
      "    1, // only this LMS coordinate is affected for deutan\n",
      "    { 0.46165, 0.00000, 2.44885 }, // Projection to plane 1\n",
      "    { 0.46165, 0.00000, 2.58960 }, // Projection to plane 2\n",
      "    { -0.01751, 0.00000, 0.65480 }  // Normal of the separation plane to pick the projection plane.\n",
      "};\n",
      "static float LMS_from_linearRGB[] = {\n",
      "    0.17886, 0.43997, 0.03597,\n",
      "    0.03380, 0.27515, 0.03621,\n",
      "    0.00031, 0.00192, 0.01528\n",
      "};\n",
      "\n",
      "static float linearRGB_from_LMS[] = {\n",
      "    8.00533, -12.88195, 11.68065,\n",
      "    -0.97821, 5.26945, -10.18300,\n",
      "    -0.04017, -0.39885, 66.48079\n",
      "};\n",
      "\n",
      "struct DLBrettel1997Params\n",
      "{\n",
      "    int lmsElementToProject;\n",
      "    float projectionOnPlane1[3];\n",
      "    float projectionOnPlane2[3];\n",
      "    float separationPlaneNormal[3];\n",
      "};\n",
      "\n",
      "static struct DLBrettel1997Params brettel_tritan_params = {\n",
      "    2, // only this LMS coordinate is affected for tritan\n",
      "    { -0.00213, 0.05477, 0.00000 }, // Projection to plane 1\n",
      "    { -0.00213, 0.16826, 0.00000 }, // Projection to plane 2\n",
      "    { 0.34516, -0.65480, 0.00000 }  // Normal of the separation plane to pick the projection plane.\n",
      "};\n"
     ]
    },
    {
     "data": {
      "text/plain": [
       "array([[[0, 0, 0]]], dtype=uint8)"
      ]
     },
     "execution_count": 7,
     "metadata": {},
     "output_type": "execute_result"
    }
   ],
   "source": [
    "simulator = simulate.Simulator_Brettel1997(convert.LMSModel_sRGB_SmithPokorny75(), use_white_as_neutral=True)\n",
    "simulator.dumpPrecomputedValues = True\n",
    "np.set_printoptions(precision=4, suppress=True)\n",
    "\n",
    "simulator.simulate_cvd(np.zeros((1,1,3), dtype=np.uint8), simulate.Deficiency.PROTAN, severity=1.0)\n",
    "simulator.simulate_cvd(np.zeros((1,1,3), dtype=np.uint8), simulate.Deficiency.DEUTAN, severity=1.0)\n",
    "simulator.simulate_cvd(np.zeros((1,1,3), dtype=np.uint8), simulate.Deficiency.TRITAN, severity=1.0)"
   ]
  },
  {
   "cell_type": "markdown",
   "id": "13b56905-2557-4658-b0dd-658f33e31ece",
   "metadata": {},
   "source": [
    "# Viénot 1999 with sRGB"
   ]
  },
  {
   "cell_type": "code",
   "execution_count": 4,
   "id": "b1ba1b91-cab4-48ba-a27e-919cb404bb6a",
   "metadata": {},
   "outputs": [
    {
     "name": "stdout",
     "output_type": "stream",
     "text": [
      "static float vienot_protan_rgbCvd_from_rgb[] = {\n",
      "    0.10889, 0.89111, -0.00000,\n",
      "    0.10889, 0.89111, 0.00000,\n",
      "    0.00447, -0.00447, 1.00000\n",
      "};\n",
      "static float vienot_deutan_rgbCvd_from_rgb[] = {\n",
      "    0.29031, 0.70969, -0.00000,\n",
      "    0.29031, 0.70969, -0.00000,\n",
      "    -0.02197, 0.02197, 1.00000\n",
      "};\n",
      "WARNING: Viénot 1999 is not accurate for tritanopia. Use Brettel 1997 instead.\n",
      "static float vienot_tritan_rgbCvd_from_rgb[] = {\n",
      "    1.00000, 0.15236, -0.15236,\n",
      "    0.00000, 0.86717, 0.13283,\n",
      "    -0.00000, 0.86717, 0.13283\n",
      "};\n"
     ]
    },
    {
     "data": {
      "text/plain": [
       "array([[[0, 0, 0]]], dtype=uint8)"
      ]
     },
     "execution_count": 4,
     "metadata": {},
     "output_type": "execute_result"
    }
   ],
   "source": [
    "simulator = simulate.Simulator_Vienot1999(convert.LMSModel_sRGB_SmithPokorny75())\n",
    "simulator.dumpPrecomputedValues = True\n",
    "np.set_printoptions(precision=4, suppress=True)\n",
    "\n",
    "simulator.simulate_cvd(np.zeros((1,1,3), dtype=np.uint8), simulate.Deficiency.PROTAN, severity=1.0)\n",
    "simulator.simulate_cvd(np.zeros((1,1,3), dtype=np.uint8), simulate.Deficiency.DEUTAN, severity=1.0)\n",
    "simulator.simulate_cvd(np.zeros((1,1,3), dtype=np.uint8), simulate.Deficiency.TRITAN, severity=1.0)"
   ]
  },
  {
   "cell_type": "markdown",
   "id": "03a8ea55-f03b-4f2f-a756-46a72cca65ae",
   "metadata": {},
   "source": [
    "# Brettel with Vischeck parameters"
   ]
  },
  {
   "cell_type": "code",
   "execution_count": 5,
   "id": "joint-ready",
   "metadata": {},
   "outputs": [
    {
     "name": "stdout",
     "output_type": "stream",
     "text": [
      "static float LMS_from_linearRGB[] = {\n",
      "    0.05060, 0.08585, 0.00952,\n",
      "    0.01893, 0.08925, 0.01370,\n",
      "    0.00292, 0.00976, 0.07146\n",
      "};\n",
      "\n",
      "static float linearRGB_from_LMS[] = {\n",
      "    30.83086, -29.83266, 1.61048,\n",
      "    -6.48147, 17.71558, -2.53264,\n",
      "    -0.37569, -1.19907, 14.27385\n",
      "};\n",
      "\n",
      "struct DLBrettel1997Params\n",
      "{\n",
      "    int lmsElementToProject;\n",
      "    float projectionOnPlane1[3];\n",
      "    float projectionOnPlane2[3];\n",
      "    float separationPlaneNormal[3];\n",
      "};\n",
      "\n",
      "static struct DLBrettel1997Params brettel_protan_params = {\n",
      "    0, // only this LMS coordinate is affected for protan\n",
      "    { 0.00000, 1.34585, -0.21464 }, // Projection to plane 1\n",
      "    { 0.00000, 1.35426, -0.22682 }, // Projection to plane 2\n",
      "    { 0.00000, 0.08414, -0.12188 }  // Normal of the separation plane to pick the projection plane.\n",
      "};\n",
      "static float LMS_from_linearRGB[] = {\n",
      "    0.05060, 0.08585, 0.00952,\n",
      "    0.01893, 0.08925, 0.01370,\n",
      "    0.00292, 0.00976, 0.07146\n",
      "};\n",
      "\n",
      "static float linearRGB_from_LMS[] = {\n",
      "    30.83086, -29.83266, 1.61048,\n",
      "    -6.48147, 17.71558, -2.53264,\n",
      "    -0.37569, -1.19907, 14.27385\n",
      "};\n",
      "\n",
      "struct DLBrettel1997Params\n",
      "{\n",
      "    int lmsElementToProject;\n",
      "    float projectionOnPlane1[3];\n",
      "    float projectionOnPlane2[3];\n",
      "    float separationPlaneNormal[3];\n",
      "};\n",
      "\n",
      "static struct DLBrettel1997Params brettel_deutan_params = {\n",
      "    1, // only this LMS coordinate is affected for deutan\n",
      "    { 0.73841, 0.00000, 0.16749 }, // Projection to plane 1\n",
      "    { 0.73841, 0.00000, 0.15948 }, // Projection to plane 2\n",
      "    { -0.08414, 0.00000, 0.14598 }  // Normal of the separation plane to pick the projection plane.\n",
      "};\n",
      "static float LMS_from_linearRGB[] = {\n",
      "    0.05060, 0.08585, 0.00952,\n",
      "    0.01893, 0.08925, 0.01370,\n",
      "    0.00292, 0.00976, 0.07146\n",
      "};\n",
      "\n",
      "static float linearRGB_from_LMS[] = {\n",
      "    30.83086, -29.83266, 1.61048,\n",
      "    -6.48147, 17.71558, -2.53264,\n",
      "    -0.37569, -1.19907, 14.27385\n",
      "};\n",
      "\n",
      "struct DLBrettel1997Params\n",
      "{\n",
      "    int lmsElementToProject;\n",
      "    float projectionOnPlane1[3];\n",
      "    float projectionOnPlane2[3];\n",
      "    float separationPlaneNormal[3];\n",
      "};\n",
      "\n",
      "static struct DLBrettel1997Params brettel_tritan_params = {\n",
      "    2, // only this LMS coordinate is affected for tritan\n",
      "    { -0.05829, 0.76013, 0.00000 }, // Projection to plane 1\n",
      "    { -0.05829, 2.48594, 0.00000 }, // Projection to plane 2\n",
      "    { 0.12188, -0.14598, 0.00000 }  // Normal of the separation plane to pick the projection plane.\n",
      "};\n"
     ]
    },
    {
     "data": {
      "text/plain": [
       "array([[[0, 0, 0]]], dtype=uint8)"
      ]
     },
     "execution_count": 5,
     "metadata": {},
     "output_type": "execute_result"
    }
   ],
   "source": [
    "simulator = simulate.Simulator_Vischeck()\n",
    "simulator.dumpPrecomputedValues = True\n",
    "simulator.simulate_cvd(np.zeros((1,1,3), dtype=np.uint8), simulate.Deficiency.PROTAN, severity=1.0)\n",
    "simulator.simulate_cvd(np.zeros((1,1,3), dtype=np.uint8), simulate.Deficiency.DEUTAN, severity=1.0)\n",
    "simulator.simulate_cvd(np.zeros((1,1,3), dtype=np.uint8), simulate.Deficiency.TRITAN, severity=1.0)"
   ]
  },
  {
   "cell_type": "code",
   "execution_count": null,
   "id": "bdb192cb-f1b8-45ae-abf0-e4a40a9c115d",
   "metadata": {},
   "outputs": [],
   "source": []
  }
 ],
 "metadata": {
  "kernelspec": {
   "display_name": "Python 3 (ipykernel)",
   "language": "python",
   "name": "python3"
  },
  "language_info": {
   "codemirror_mode": {
    "name": "ipython",
    "version": 3
   },
   "file_extension": ".py",
   "mimetype": "text/x-python",
   "name": "python",
   "nbconvert_exporter": "python",
   "pygments_lexer": "ipython3",
   "version": "3.8.10"
  }
 },
 "nbformat": 4,
 "nbformat_minor": 5
}
