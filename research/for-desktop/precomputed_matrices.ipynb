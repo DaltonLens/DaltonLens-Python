{
 "cells": [
  {
   "cell_type": "code",
   "execution_count": 4,
   "id": "920d306f",
   "metadata": {},
   "outputs": [
    {
     "name": "stdout",
     "output_type": "stream",
     "text": [
      "The autoreload extension is already loaded. To reload it, use:\n",
      "  %reload_ext autoreload\n"
     ]
    }
   ],
   "source": [
    "%load_ext autoreload\n",
    "%autoreload 2"
   ]
  },
  {
   "cell_type": "code",
   "execution_count": 9,
   "id": "ebeb2d46-a94d-4f01-af3f-2b1c6f000b16",
   "metadata": {},
   "outputs": [],
   "source": [
    "import io, math, os, sys\n",
    "from base64 import b64decode\n",
    "from pathlib import Path\n",
    "from IPython.core.display import HTML\n",
    "\n",
    "import matplotlib.pyplot as plt\n",
    "import numpy as np\n",
    "\n",
    "import PIL\n",
    "\n",
    "# Install daltonlens if necessary\n",
    "try:\n",
    "    from daltonlens import convert, simulate\n",
    "except ImportError:\n",
    "    !pip install -q daltonlens\n",
    "    from daltonlens import convert, simulate\n",
    "    \n",
    "# Uncomment to get interactive plots.\n",
    "# %matplotlib notebook"
   ]
  },
  {
   "cell_type": "markdown",
   "id": "a14edad2-dbd7-4ab2-b50b-062ed657e179",
   "metadata": {},
   "source": [
    "# Introduction\n",
    "\n",
    "Goal is to generate the precomputed matrices / parameters needed by libDaltonLens or DaltonLens desktop."
   ]
  },
  {
   "cell_type": "markdown",
   "id": "adaa213e-8d24-430c-ab06-4f329fd0a60e",
   "metadata": {},
   "source": [
    "# Brettel 1997 with sRGB"
   ]
  },
  {
   "cell_type": "code",
   "execution_count": 13,
   "id": "879f72cb-f3a6-46cc-b22c-bfcc9f38ec66",
   "metadata": {},
   "outputs": [
    {
     "name": "stdout",
     "output_type": "stream",
     "text": [
      "\n",
      "struct DLBrettel1997Params\n",
      "{\n",
      "    // Transformation using plane 1 == rgbFromLms . projection1 . lmsFromRgb\n",
      "    float rgbCvdFromRgb_1[9];\n",
      "    \n",
      "    // Full transformation using plane 2 == rgbFromLms . projection2 . lmsFromRgb\n",
      "    float rgbCvdFromRgb_2[9];\n",
      "\n",
      "    // Normal of the separation plane to pick the right transform, already in the RGB space.\n",
      "    // == normalInLms . lmsFromRgb\n",
      "    float separationPlaneNormalInRgb[3];\n",
      "};\n",
      "\n",
      "static struct DLBrettel1997Params brettel_protan_params = {\n",
      "    {\n",
      "        0.14510, 1.20165, -0.34675,\n",
      "        0.10447, 0.85316, 0.04237,\n",
      "        0.00429, -0.00603, 1.00174,\n",
      "    },\n",
      "    {\n",
      "        0.14115, 1.16782, -0.30897,\n",
      "        0.10495, 0.85730, 0.03776,\n",
      "        0.00431, -0.00586, 1.00155,\n",
      "    },\n",
      "    { 0.00048, 0.00416, -0.00464 }\n",
      "};\n",
      "\n",
      "struct DLBrettel1997Params\n",
      "{\n",
      "    // Transformation using plane 1 == rgbFromLms . projection1 . lmsFromRgb\n",
      "    float rgbCvdFromRgb_1[9];\n",
      "    \n",
      "    // Full transformation using plane 2 == rgbFromLms . projection2 . lmsFromRgb\n",
      "    float rgbCvdFromRgb_2[9];\n",
      "\n",
      "    // Normal of the separation plane to pick the right transform, already in the RGB space.\n",
      "    // == normalInLms . lmsFromRgb\n",
      "    float separationPlaneNormalInRgb[3];\n",
      "};\n",
      "\n",
      "static struct DLBrettel1997Params brettel_deutan_params = {\n",
      "    {\n",
      "        0.36198, 0.86755, -0.22953,\n",
      "        0.26099, 0.64512, 0.09389,\n",
      "        -0.01975, 0.02686, 0.99289,\n",
      "    },\n",
      "    {\n",
      "        0.37009, 0.88540, -0.25549,\n",
      "        0.25767, 0.63782, 0.10451,\n",
      "        -0.01950, 0.02741, 0.99209,\n",
      "    },\n",
      "    { -0.00293, -0.00645, 0.00938 }\n",
      "};\n",
      "\n",
      "struct DLBrettel1997Params\n",
      "{\n",
      "    // Transformation using plane 1 == rgbFromLms . projection1 . lmsFromRgb\n",
      "    float rgbCvdFromRgb_1[9];\n",
      "    \n",
      "    // Full transformation using plane 2 == rgbFromLms . projection2 . lmsFromRgb\n",
      "    float rgbCvdFromRgb_2[9];\n",
      "\n",
      "    // Normal of the separation plane to pick the right transform, already in the RGB space.\n",
      "    // == normalInLms . lmsFromRgb\n",
      "    float separationPlaneNormalInRgb[3];\n",
      "};\n",
      "\n",
      "static struct DLBrettel1997Params brettel_tritan_params = {\n",
      "    {\n",
      "        1.01354, 0.14268, -0.15622,\n",
      "        -0.01181, 0.87561, 0.13619,\n",
      "        0.07707, 0.81208, 0.11085,\n",
      "    },\n",
      "    {\n",
      "        0.93337, 0.19999, -0.13336,\n",
      "        0.05809, 0.82565, 0.11626,\n",
      "        -0.37923, 1.13825, 0.24098,\n",
      "    },\n",
      "    { 0.03960, -0.02831, -0.01129 }\n",
      "};\n"
     ]
    },
    {
     "data": {
      "text/plain": [
       "array([[[0, 0, 0]]], dtype=uint8)"
      ]
     },
     "execution_count": 13,
     "metadata": {},
     "output_type": "execute_result"
    }
   ],
   "source": [
    "simulator = simulate.Simulator_Brettel1997(convert.LMSModel_sRGB_SmithPokorny75(), use_white_as_neutral=True)\n",
    "simulator.dumpPrecomputedValues = True\n",
    "np.set_printoptions(precision=4, suppress=True)\n",
    "\n",
    "simulator.simulate_cvd(np.zeros((1,1,3), dtype=np.uint8), simulate.Deficiency.PROTAN, severity=1.0)\n",
    "simulator.simulate_cvd(np.zeros((1,1,3), dtype=np.uint8), simulate.Deficiency.DEUTAN, severity=1.0)\n",
    "simulator.simulate_cvd(np.zeros((1,1,3), dtype=np.uint8), simulate.Deficiency.TRITAN, severity=1.0)"
   ]
  },
  {
   "cell_type": "markdown",
   "id": "13b56905-2557-4658-b0dd-658f33e31ece",
   "metadata": {},
   "source": [
    "# Viénot 1999 with sRGB"
   ]
  },
  {
   "cell_type": "code",
   "execution_count": 7,
   "id": "b1ba1b91-cab4-48ba-a27e-919cb404bb6a",
   "metadata": {},
   "outputs": [
    {
     "name": "stdout",
     "output_type": "stream",
     "text": [
      "static float vienot_protan_rgbCvd_from_rgb[] = {\n",
      "    0.10889, 0.89111, -0.00000,\n",
      "    0.10889, 0.89111, 0.00000,\n",
      "    0.00447, -0.00447, 1.00000\n",
      "};\n",
      "static float vienot_deutan_rgbCvd_from_rgb[] = {\n",
      "    0.29031, 0.70969, -0.00000,\n",
      "    0.29031, 0.70969, -0.00000,\n",
      "    -0.02197, 0.02197, 1.00000\n",
      "};\n",
      "static float vienot_tritan_rgbCvd_from_rgb[] = {\n",
      "    1.00000, 0.15236, -0.15236,\n",
      "    0.00000, 0.86717, 0.13283,\n",
      "    -0.00000, 0.86717, 0.13283\n",
      "};\n"
     ]
    },
    {
     "data": {
      "text/plain": [
       "array([[[0, 0, 0]]], dtype=uint8)"
      ]
     },
     "execution_count": 7,
     "metadata": {},
     "output_type": "execute_result"
    }
   ],
   "source": [
    "simulator = simulate.Simulator_Vienot1999(convert.LMSModel_sRGB_SmithPokorny75())\n",
    "simulator.dumpPrecomputedValues = True\n",
    "np.set_printoptions(precision=4, suppress=True)\n",
    "\n",
    "simulator.simulate_cvd(np.zeros((1,1,3), dtype=np.uint8), simulate.Deficiency.PROTAN, severity=1.0)\n",
    "simulator.simulate_cvd(np.zeros((1,1,3), dtype=np.uint8), simulate.Deficiency.DEUTAN, severity=1.0)\n",
    "simulator.simulate_cvd(np.zeros((1,1,3), dtype=np.uint8), simulate.Deficiency.TRITAN, severity=1.0)"
   ]
  },
  {
   "cell_type": "markdown",
   "id": "03a8ea55-f03b-4f2f-a756-46a72cca65ae",
   "metadata": {},
   "source": [
    "# Brettel with Vischeck parameters"
   ]
  },
  {
   "cell_type": "code",
   "execution_count": 8,
   "id": "joint-ready",
   "metadata": {},
   "outputs": [
    {
     "name": "stdout",
     "output_type": "stream",
     "text": [
      "static float dl_brettel_protan_rgbCvd_from_rgb_1[] = {\n",
      "    0.20611, 0.99192, -0.19803,\n",
      "    0.16690, 0.79147, 0.04163,\n",
      "    0.00967, -0.01209, 1.00241\n",
      "};\n",
      "static float dl_brettel_protan_rgbCvd_from_rgb_2[] = {\n",
      "    0.20993, 1.01140, -0.22133,\n",
      "    0.16609, 0.78738, 0.04653,\n",
      "    0.00963, -0.01232, 1.00270\n",
      "};\n",
      "static float dl_brettel_protan_sepPlaneNormalInRgb[] = {\n",
      "    0.00124, 0.00632, -0.00756\n",
      "};\n",
      "static float dl_brettel_deutan_rgbCvd_from_rgb_1[] = {\n",
      "    0.43549, 0.72265, -0.15814,\n",
      "    0.33522, 0.57087, 0.09391,\n",
      "    -0.02269, 0.02905, 0.99364\n",
      "};\n",
      "static float dl_brettel_deutan_rgbCvd_from_rgb_2[] = {\n",
      "    0.42922, 0.71316, -0.14238,\n",
      "    0.33895, 0.57650, 0.08455,\n",
      "    -0.02294, 0.02866, 0.99428\n",
      "};\n",
      "static float dl_brettel_deutan_sepPlaneNormalInRgb[] = {\n",
      "    -0.00383, -0.00580, 0.00963\n",
      "};\n",
      "static float dl_brettel_tritan_rgbCvd_from_rgb_1[] = {\n",
      "    1.01372, 0.08549, -0.09921,\n",
      "    -0.02157, 0.86556, 0.15601,\n",
      "    0.12159, 0.75769, 0.12072\n",
      "};\n",
      "static float dl_brettel_tritan_rgbCvd_from_rgb_2[] = {\n",
      "    0.94891, 0.13432, -0.08323,\n",
      "    0.08035, 0.78877, 0.13089,\n",
      "    -0.45283, 1.19050, 0.26232\n",
      "};\n",
      "static float dl_brettel_tritan_sepPlaneNormalInRgb[] = {\n",
      "    0.00340, -0.00256, -0.00084\n",
      "};\n"
     ]
    },
    {
     "data": {
      "text/plain": [
       "array([[[0, 0, 0]]], dtype=uint8)"
      ]
     },
     "execution_count": 8,
     "metadata": {},
     "output_type": "execute_result"
    }
   ],
   "source": [
    "simulator = simulate.Simulator_Vischeck()\n",
    "simulator.dumpPrecomputedValues = True\n",
    "simulator.simulate_cvd(np.zeros((1,1,3), dtype=np.uint8), simulate.Deficiency.PROTAN, severity=1.0)\n",
    "simulator.simulate_cvd(np.zeros((1,1,3), dtype=np.uint8), simulate.Deficiency.DEUTAN, severity=1.0)\n",
    "simulator.simulate_cvd(np.zeros((1,1,3), dtype=np.uint8), simulate.Deficiency.TRITAN, severity=1.0)"
   ]
  },
  {
   "cell_type": "code",
   "execution_count": null,
   "id": "bdb192cb-f1b8-45ae-abf0-e4a40a9c115d",
   "metadata": {},
   "outputs": [],
   "source": []
  },
  {
   "cell_type": "code",
   "execution_count": null,
   "id": "4a74bd61",
   "metadata": {},
   "outputs": [],
   "source": []
  }
 ],
 "metadata": {
  "kernelspec": {
   "display_name": "Python 3 (ipykernel)",
   "language": "python",
   "name": "python3"
  },
  "language_info": {
   "codemirror_mode": {
    "name": "ipython",
    "version": 3
   },
   "file_extension": ".py",
   "mimetype": "text/x-python",
   "name": "python",
   "nbconvert_exporter": "python",
   "pygments_lexer": "ipython3",
   "version": "3.8.10"
  }
 },
 "nbformat": 4,
 "nbformat_minor": 5
}
