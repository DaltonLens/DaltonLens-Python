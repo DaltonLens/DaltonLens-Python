{
 "cells": [
  {
   "cell_type": "code",
   "execution_count": 1,
   "id": "outside-papua",
   "metadata": {},
   "outputs": [],
   "source": [
    "%load_ext autoreload\n",
    "%autoreload 2"
   ]
  },
  {
   "cell_type": "code",
   "execution_count": 2,
   "id": "viral-basket",
   "metadata": {},
   "outputs": [
    {
     "name": "stdout",
     "output_type": "stream",
     "text": [
      "Python 3.8.10\n"
     ]
    }
   ],
   "source": [
    "%%bash\n",
    "python3 --version"
   ]
  },
  {
   "cell_type": "code",
   "execution_count": 3,
   "id": "bbe38676",
   "metadata": {},
   "outputs": [
    {
     "name": "stdout",
     "output_type": "stream",
     "text": [
      "Note: you may need to restart the kernel to use updated packages.\n"
     ]
    }
   ],
   "source": [
    "%pip install -q sklearn"
   ]
  },
  {
   "cell_type": "code",
   "execution_count": 4,
   "id": "extended-length",
   "metadata": {},
   "outputs": [],
   "source": [
    "import io, math, os, sys\n",
    "from base64 import b64decode\n",
    "from pathlib import Path\n",
    "from IPython.core.display import HTML\n",
    "\n",
    "import matplotlib.pyplot as plt\n",
    "import numpy as np\n",
    "import math\n",
    "\n",
    "import PIL\n",
    "\n",
    "# Install daltonlens if necessary\n",
    "try:\n",
    "    from daltonlens import convert, simulate, cmfs, utils\n",
    "except ImportError:\n",
    "    %pip install -q daltonlens\n",
    "    from daltonlens import convert, simulate, cmfs, utils\n",
    "\n",
    "np.set_printoptions(precision=5, suppress=True)    \n",
    "    \n",
    "# Uncomment to get interactive plots.\n",
    "# %matplotlib notebook"
   ]
  },
  {
   "cell_type": "code",
   "execution_count": 5,
   "id": "bronze-greeting",
   "metadata": {},
   "outputs": [
    {
     "data": {
      "text/plain": [
       "array([[ 0.40957,  0.35504,  0.17917],\n",
       "       [ 0.21339,  0.70674,  0.07987],\n",
       "       [ 0.01863,  0.11462,  0.91237]])"
      ]
     },
     "metadata": {},
     "output_type": "display_data"
    },
    {
     "ename": "AttributeError",
     "evalue": "module 'daltonlens.convert' has no attribute 'LMSModel_Vienot1999_SmithPokorny75'",
     "output_type": "error",
     "traceback": [
      "\u001b[0;31m---------------------------------------------------------------------------\u001b[0m",
      "\u001b[0;31mAttributeError\u001b[0m                            Traceback (most recent call last)",
      "\u001b[0;32m/tmp/ipykernel_69881/1266122103.py\u001b[0m in \u001b[0;36m<module>\u001b[0;34m\u001b[0m\n\u001b[1;32m      1\u001b[0m \u001b[0mdisplay\u001b[0m\u001b[0;34m(\u001b[0m\u001b[0mconvert\u001b[0m\u001b[0;34m.\u001b[0m\u001b[0mLMSModel_sRGB_SmithPokorny75\u001b[0m\u001b[0;34m(\u001b[0m\u001b[0;34m)\u001b[0m\u001b[0;34m.\u001b[0m\u001b[0mXYZ_from_linearRGB\u001b[0m\u001b[0;34m)\u001b[0m\u001b[0;34m\u001b[0m\u001b[0;34m\u001b[0m\u001b[0m\n\u001b[0;32m----> 2\u001b[0;31m \u001b[0mdisplay\u001b[0m\u001b[0;34m(\u001b[0m\u001b[0mconvert\u001b[0m\u001b[0;34m.\u001b[0m\u001b[0mLMSModel_Vienot1999_SmithPokorny75\u001b[0m\u001b[0;34m(\u001b[0m\u001b[0;34m)\u001b[0m\u001b[0;34m.\u001b[0m\u001b[0mXYZ_from_linearRGB\u001b[0m\u001b[0;34m)\u001b[0m\u001b[0;34m\u001b[0m\u001b[0;34m\u001b[0m\u001b[0m\n\u001b[0m",
      "\u001b[0;31mAttributeError\u001b[0m: module 'daltonlens.convert' has no attribute 'LMSModel_Vienot1999_SmithPokorny75'"
     ]
    }
   ],
   "source": [
    "display(convert.LMSModel_sRGB_SmithPokorny75().XYZ_from_linearRGB)\n",
    "display(convert.LMSModel_Vienot1999_SmithPokorny75().XYZ_from_linearRGB)"
   ]
  },
  {
   "cell_type": "code",
   "execution_count": null,
   "id": "competitive-alcohol",
   "metadata": {},
   "outputs": [],
   "source": [
    "XYZ_vos_from_XYZ = convert.LMSModel_Vienot1999_SmithPokorny75().XYZ_from_linearRGB @ np.linalg.inv(convert.LMSModel_sRGB_SmithPokorny75().XYZ_from_linearRGB)\n",
    "display(XYZ_vos_from_XYZ)"
   ]
  },
  {
   "cell_type": "code",
   "execution_count": null,
   "id": "great-copyright",
   "metadata": {},
   "outputs": [],
   "source": [
    "convert.XYZ_vos1978_from_XYZ_CIE1931([95.047, 100, 108.883])"
   ]
  },
  {
   "cell_type": "code",
   "execution_count": null,
   "id": "tracked-syntax",
   "metadata": {},
   "outputs": [],
   "source": [
    "XYZ_vos_from_XYZ @ [95.047, 100, 108.883]"
   ]
  },
  {
   "cell_type": "code",
   "execution_count": null,
   "id": "entire-claim",
   "metadata": {},
   "outputs": [],
   "source": [
    "rgbw_rgb = np.array([\n",
    "    [1,0,0],\n",
    "    [0,1,0],\n",
    "    [0,0,1],\n",
    "    [1,1,1],\n",
    "])\n",
    "\n",
    "rgbw_XYZ = convert.apply_color_matrix(rgbw_rgb, convert.LMSModel_sRGB_SmithPokorny75().XYZ_from_linearRGB)\n",
    "\n",
    "rgbw_xyY = np.apply_along_axis(convert.xyY_from_XYZ, 1, rgbw_XYZ)\n",
    "\n",
    "display(\"rgbw_XYZ\", rgbw_XYZ)\n",
    "display(\"rgbw_xyY\", rgbw_xyY)\n",
    "\n",
    "# in xyY, as given in the Viénot paper\n",
    "# rgbw = np.array([\n",
    "#     [0.64,   0.33,  np.nan],\n",
    "#     [0.30,   0.60,  np.nan],\n",
    "#     [0.15,   0.06,  np.nan],\n",
    "#     [0.3127, 0.329, np.nan]\n",
    "# ])\n",
    "\n",
    "rgbw_xyY_vos = np.array([\n",
    "    [0.6384, 0.3326, np.nan],\n",
    "    [0.3018, 0.6008, np.nan],\n",
    "    [0.1530, 0.0682, np.nan],\n",
    "    [0.3157, 0.3345, np.nan]\n",
    "])\n",
    "\n",
    "display(\"rgbw_xyY_vos\", rgbw_xyY_vos)"
   ]
  },
  {
   "cell_type": "code",
   "execution_count": null,
   "id": "adapted-blowing",
   "metadata": {},
   "outputs": [],
   "source": [
    "# Judd-Vos adjusted sRGB\n",
    "convert.compute_XYZ_from_linearRGB_with_primaries([0.6384, 0.3326], [0.3018, 0.6008], [0.1530, 0.0682], [0.3157, 0.3345])"
   ]
  },
  {
   "cell_type": "code",
   "execution_count": null,
   "id": "c23f8618",
   "metadata": {},
   "outputs": [],
   "source": [
    "display(convert.LMSModel_sRGB_SmithPokorny75().XYZ_from_linearRGB)"
   ]
  },
  {
   "cell_type": "code",
   "execution_count": null,
   "id": "26c5edeb",
   "metadata": {},
   "outputs": [],
   "source": [
    "# sRGB\n",
    "convert.compute_XYZ_from_linearRGB_with_primaries([0.64, 0.33], [0.30, 0.60], [0.15, 0.06], [0.3127, 0.329])"
   ]
  },
  {
   "cell_type": "code",
   "execution_count": null,
   "id": "1a2439fc",
   "metadata": {
    "scrolled": true
   },
   "outputs": [],
   "source": [
    "display(utils.normalized(cmfs.wavelength_to_XYZ(475)))\n",
    "display(utils.normalized(cmfs.wavelength_to_XYZ_JuddVos(475)))"
   ]
  },
  {
   "cell_type": "code",
   "execution_count": null,
   "id": "8d00b209",
   "metadata": {},
   "outputs": [],
   "source": [
    "from daltonlens import cmfs\n",
    "xyz_475 = cmfs.wavelength_to_XYZ_JuddVos(475)\n",
    "xyz_575 = cmfs.wavelength_to_XYZ_JuddVos(575)\n",
    "xyz_485 = cmfs.wavelength_to_XYZ_JuddVos(485)\n",
    "xyz_660 = cmfs.wavelength_to_XYZ_JuddVos(660)\n",
    "display(xyz_475)\n",
    "display(xyz_575)\n",
    "display(xyz_485)\n",
    "display(xyz_660)"
   ]
  },
  {
   "cell_type": "code",
   "execution_count": null,
   "id": "5193c580",
   "metadata": {},
   "outputs": [],
   "source": []
  }
 ],
 "metadata": {
  "kernelspec": {
   "display_name": "Python 3 (ipykernel)",
   "language": "python",
   "name": "python3"
  },
  "language_info": {
   "codemirror_mode": {
    "name": "ipython",
    "version": 3
   },
   "file_extension": ".py",
   "mimetype": "text/x-python",
   "name": "python",
   "nbconvert_exporter": "python",
   "pygments_lexer": "ipython3",
   "version": "3.8.10"
  }
 },
 "nbformat": 4,
 "nbformat_minor": 5
}
