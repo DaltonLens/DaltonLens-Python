{
 "cells": [
  {
   "cell_type": "code",
   "execution_count": 1,
   "id": "b9ead513",
   "metadata": {},
   "outputs": [],
   "source": [
    "%load_ext autoreload\n",
    "%autoreload 2"
   ]
  },
  {
   "cell_type": "code",
   "execution_count": 3,
   "id": "extended-length",
   "metadata": {},
   "outputs": [
    {
     "data": {
      "text/plain": [
       "array([[ 0.08128,  0.08134, -0.01159],\n",
       "       [-0.0244 ,  0.13555,  0.00876],\n",
       "       [ 0.00399, -0.00077,  0.0745 ]])"
      ]
     },
     "metadata": {},
     "output_type": "display_data"
    },
    {
     "data": {
      "text/plain": [
       "array([[ 0.15514,  0.54312, -0.03286],\n",
       "       [-0.15514,  0.45684,  0.03286],\n",
       "       [ 0.     ,  0.     ,  0.01608]])"
      ]
     },
     "metadata": {},
     "output_type": "display_data"
    },
    {
     "data": {
      "text/plain": [
       "array([[ 1.94735, -1.41445,  0.36476],\n",
       "       [ 0.6899 ,  0.34832,  0.     ],\n",
       "       [ 0.     ,  0.     ,  1.93485]])"
      ]
     },
     "metadata": {},
     "output_type": "display_data"
    },
    {
     "data": {
      "text/plain": [
       "array([[ 0.15514,  0.54312, -0.03286],\n",
       "       [-0.15514,  0.45684,  0.03286],\n",
       "       [ 0.     ,  0.     ,  0.01608]])"
      ]
     },
     "metadata": {},
     "output_type": "display_data"
    },
    {
     "name": "stderr",
     "output_type": "stream",
     "text": [
      "ic| convert.LMSModel_Vischeck_GIMP().LMS_from_linearRGB: array([[ 0.0506 ,  0.08585,  0.00952],\n",
      "                                                                [ 0.01893,  0.08925,  0.0137 ],\n",
      "                                                                [ 0.00292,  0.00976,  0.07146]])\n",
      "ic| convert.LMSModel_sRGB_SmithPokorny75().LMS_from_linearRGB: array([[ 0.17886,  0.43997,  0.03597],\n",
      "                                                                      [ 0.0338 ,  0.27515,  0.03621],\n",
      "                                                                      [ 0.00031,  0.00192,  0.01528]])\n",
      "ic| convert.LMSModel_sRGB_StockmanSharpe2000().LMS_from_linearRGB: array([[ 0.50944, -0.27174,  0.59592],\n",
      "                                                                          [ 0.35863,  0.4958 ,  0.14962],\n",
      "                                                                          [ 0.03741,  0.23062,  1.8387 ]])\n",
      "ic| convert.LMSModel_Vienot1999_SmithPokorny75().LMS_from_linearRGB: array([[ 0.07013,  0.17065,  0.01615],\n",
      "                                                                            [ 0.01355,  0.10649,  0.01517],\n",
      "                                                                            [ 0.00012,  0.00072,  0.00575]])\n"
     ]
    },
    {
     "name": "stdout",
     "output_type": "stream",
     "text": [
      "\n"
     ]
    },
    {
     "data": {
      "text/plain": [
       "array([[ 0.07013,  0.17065,  0.01615],\n",
       "       [ 0.01355,  0.10649,  0.01517],\n",
       "       [ 0.00012,  0.00072,  0.00575]])"
      ]
     },
     "execution_count": 3,
     "metadata": {},
     "output_type": "execute_result"
    }
   ],
   "source": [
    "import io, math, os, sys\n",
    "from base64 import b64decode\n",
    "from pathlib import Path\n",
    "from IPython.core.display import HTML\n",
    "\n",
    "import matplotlib.pyplot as plt\n",
    "import numpy as np\n",
    "\n",
    "import colour\n",
    "from colour import MSDS_CMFS\n",
    "\n",
    "from icecream import ic\n",
    "\n",
    "import PIL\n",
    "\n",
    "# Install daltonlens if necessary\n",
    "try:\n",
    "    from daltonlens import convert, simulate\n",
    "except ImportError:\n",
    "    %pip install -q daltonlens\n",
    "    from daltonlens import convert, simulate\n",
    "\n",
    "# Uncomment to get interactive plots.\n",
    "# %matplotlib notebook\n",
    "\n",
    "def normalized(p): return p / np.linalg.norm(p)\n",
    "\n",
    "simulator = simulate.Simulator_Vienot1999(convert.LMSModel_sRGB_SmithPokorny75())\n",
    "# simulator = simulate.Simulator_Brettel1997(convert.LMSModel_sRGB_SmithPokorny75())\n",
    "\n",
    "np.set_printoptions(suppress=True, precision=5)\n",
    "\n",
    "display(convert.LMSModel_Vischeck_GIMP().LMS_from_XYZ)\n",
    "display(convert.LMSModel_sRGB_SmithPokorny75().LMS_from_XYZ)\n",
    "display(convert.LMSModel_sRGB_StockmanSharpe2000().LMS_from_XYZ)\n",
    "display(convert.LMSModel_Vienot1999_SmithPokorny75().LMS_from_XYZ)\n",
    "\n",
    "print()\n",
    "ic(convert.LMSModel_Vischeck_GIMP().LMS_from_linearRGB)\n",
    "ic(convert.LMSModel_sRGB_SmithPokorny75().LMS_from_linearRGB)\n",
    "ic(convert.LMSModel_sRGB_StockmanSharpe2000().LMS_from_linearRGB)\n",
    "ic(convert.LMSModel_Vienot1999_SmithPokorny75().LMS_from_linearRGB)"
   ]
  },
  {
   "cell_type": "code",
   "execution_count": 4,
   "id": "4c4ee1ad",
   "metadata": {},
   "outputs": [
    {
     "name": "stderr",
     "output_type": "stream",
     "text": [
      "ic| vischeck.XYZ_from_LMS @ lms: array([ 1.22694,  0.87814,  7.85903])\n",
      "ic| vischeck.XYZ_from_LMS @ lms: array([ 5.65322,  6.43625, -0.2219 ])\n",
      "ic| vischeck.XYZ_from_LMS @ lms: array([ 0.79132,  1.4793 ,  4.85354])\n",
      "ic| vischeck.XYZ_from_LMS @ lms: array([ 0.90089,  0.21688, -0.04599])\n"
     ]
    }
   ],
   "source": [
    "gimp_lms_475 = np.array([0.08008, 0.1579, 0.5897])\n",
    "gimp_lms_575 = np.array([0.9856, 0.7325, 0.001079])\n",
    "gimp_lms_485 = np.array([0.1284, 0.2237, 0.3636])\n",
    "gimp_lms_660 = np.array([0.0914, 0.007009, 0.0])\n",
    "\n",
    "vischeck = convert.LMSModel_Vischeck_GIMP()\n",
    "for lms in [gimp_lms_475, gimp_lms_575, gimp_lms_485, gimp_lms_660]:\n",
    "    ic(vischeck.XYZ_from_LMS @ lms)"
   ]
  },
  {
   "cell_type": "code",
   "execution_count": null,
   "id": "6d3e07cc",
   "metadata": {},
   "outputs": [],
   "source": [
    "anchor_e_gimp = np.array([0.05059983 + 0.08585369 + 0.00952420, \n",
    "                     0.01893033 + 0.08925308 + 0.01370054,\n",
    "                     0.00292202 + 0.00975732 + 0.07145979])\n",
    "ic(anchor_e_gimp)"
   ]
  },
  {
   "cell_type": "code",
   "execution_count": null,
   "id": "2c0aa1ce",
   "metadata": {},
   "outputs": [],
   "source": [
    "cmfs = MSDS_CMFS['CIE 1931 2 Degree Standard Observer']\n",
    "xyz_475 = colour.wavelength_to_XYZ(475, cmfs)\n",
    "xyz_575 = colour.wavelength_to_XYZ(575, cmfs)\n",
    "xyz_485 = colour.wavelength_to_XYZ(485, cmfs)\n",
    "xyz_660 = colour.wavelength_to_XYZ(660, cmfs)\n",
    "ic(normalized(xyz_475))\n",
    "ic(normalized(xyz_575))\n",
    "\n",
    "d65_white_xyz = np.array([95.05, 100.00, 108.88])\n",
    "white_xyz = np.array([100.0, 100.00, 100.0])\n",
    "xyz_475_d65 = colour.chromatic_adaptation(xyz_475, d65_white_xyz, white_xyz)\n",
    "xyz_575_d65 = colour.chromatic_adaptation(xyz_575, d65_white_xyz, white_xyz)\n",
    "ic(normalized(xyz_475_d65))\n",
    "ic(normalized(xyz_575_d65))"
   ]
  },
  {
   "cell_type": "code",
   "execution_count": null,
   "id": "def3f06b",
   "metadata": {},
   "outputs": [],
   "source": [
    "cmfs = MSDS_CMFS['Stockman & Sharpe 2 Degree Cone Fundamentals']\n",
    "xyz_475 = colour.wavelength_to_XYZ(475, cmfs)\n",
    "xyz_575 = colour.wavelength_to_XYZ(575, cmfs)\n",
    "xyz_485 = colour.wavelength_to_XYZ(485, cmfs)\n",
    "xyz_660 = colour.wavelength_to_XYZ(660, cmfs)\n",
    "ic(normalized(xyz_475))\n",
    "ic(normalized(xyz_575))"
   ]
  }
 ],
 "metadata": {
  "kernelspec": {
   "display_name": "Python 3 (ipykernel)",
   "language": "python",
   "name": "python3"
  },
  "language_info": {
   "codemirror_mode": {
    "name": "ipython",
    "version": 3
   },
   "file_extension": ".py",
   "mimetype": "text/x-python",
   "name": "python",
   "nbconvert_exporter": "python",
   "pygments_lexer": "ipython3",
   "version": "3.8.10"
  }
 },
 "nbformat": 4,
 "nbformat_minor": 5
}
