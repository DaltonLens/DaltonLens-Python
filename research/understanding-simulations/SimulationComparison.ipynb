{
 "cells": [
  {
   "cell_type": "code",
   "execution_count": null,
   "id": "extended-length",
   "metadata": {},
   "outputs": [],
   "source": [
    "import io, math, os, sys\n",
    "from base64 import b64decode\n",
    "from pathlib import Path\n",
    "\n",
    "import matplotlib.pyplot as plt\n",
    "import numpy as np\n",
    "import mplcursors\n",
    "\n",
    "import PIL"
   ]
  },
  {
   "cell_type": "code",
   "execution_count": null,
   "id": "durable-excess",
   "metadata": {},
   "outputs": [],
   "source": [
    "root_path = Path.cwd()\n",
    "def read_image(f):\n",
    "    return np.asarray(PIL.Image.open(f).convert('RGB'))"
   ]
  },
  {
   "cell_type": "code",
   "execution_count": null,
   "id": "joint-ready",
   "metadata": {},
   "outputs": [],
   "source": [
    "files = [\n",
    "    \"../../tests/images/brettel1997_protan_1.0.png\",\n",
    "     \"../../tests/images/vienot1999_protan_1.0.png\",\n",
    "    \"../../tests/images/machado2009_protan_1.0.png\",\n",
    "             \"colour-science/colour_protan_1.0.png\",\n",
    "]\n",
    "\n",
    "pretty_names = [Path(f).stem for f in files]\n",
    "\n",
    "cvd_images = [read_image(f) for f in files]\n",
    "input_image = read_image(\"../../tests/images/input.png\")\n",
    "\n",
    "fig, ax = plt.subplots(figsize=(8,8))\n",
    "ax.set_title(\"Original\")\n",
    "ax.imshow(input_image)\n",
    "\n",
    "fig, axes = plt.subplots(2, 2, figsize=(16, 16))\n",
    "flat_axes = axes.flat\n",
    "for idx, im in enumerate(cvd_images):\n",
    "    flat_axes[idx].imshow(im)\n",
    "    flat_axes[idx].set_title(pretty_names[idx])\n",
    "\n",
    "def compare_images(idx0, idx1):\n",
    "    im0 = cvd_images[idx0].astype(int)\n",
    "    im1 = cvd_images[idx1].astype(int)\n",
    "    diff_rgb = np.abs(im0 - im1)\n",
    "    fig, axes = plt.subplots(1,3,figsize=(8*3,8))\n",
    "    fig.suptitle(f\"{pretty_names[idx0]} <=> {pretty_names[idx1]}\")\n",
    "    for channel, channel_name in enumerate([\"red\", \"green\", \"blue\"]):\n",
    "        axes[channel].set_title(f\"Differences on the {channel_name} channel\")\n",
    "        implot = axes[channel].imshow(diff_rgb[:,:,channel])\n",
    "        implot.set_clim(0,64)\n",
    "        implot.set_cmap('gray')\n",
    "        plt.colorbar(implot, ax=axes[channel])\n",
    "        \n",
    "compare_images(0,1)"
   ]
  },
  {
   "cell_type": "code",
   "execution_count": null,
   "id": "accepted-jefferson",
   "metadata": {},
   "outputs": [],
   "source": []
  }
 ],
 "metadata": {
  "kernelspec": {
   "display_name": "Python 3 (ipykernel)",
   "language": "python",
   "name": "python3"
  },
  "language_info": {
   "codemirror_mode": {
    "name": "ipython",
    "version": 3
   },
   "file_extension": ".py",
   "mimetype": "text/x-python",
   "name": "python",
   "nbconvert_exporter": "python",
   "pygments_lexer": "ipython3",
   "version": "3.8.10"
  }
 },
 "nbformat": 4,
 "nbformat_minor": 5
}
