{
 "cells": [
  {
   "cell_type": "code",
   "execution_count": 11,
   "id": "d46673b5",
   "metadata": {},
   "outputs": [
    {
     "name": "stdout",
     "output_type": "stream",
     "text": [
      "0.2º => 0.0020943972290265603m\n",
      "0.1º => 0.0010471978170255255m\n",
      "1º => 0.010472241348910546m\n"
     ]
    }
   ],
   "source": [
    "from math import *\n",
    "\n",
    "def sizeOnScreenForFOV(fovInDeg, distance):\n",
    "    return tan(radians(fovInDeg/2.0)) * distance * 2.0\n",
    "\n",
    "print (f\"0.2º => {sizeOnScreenForFOV(0.2, 0.60)}m\")\n",
    "print (f\"0.1º => {sizeOnScreenForFOV(0.1, 0.60)}m\")\n",
    "print (f\"1º => {sizeOnScreenForFOV(1, 0.60)}m\")"
   ]
  },
  {
   "cell_type": "code",
   "execution_count": 16,
   "id": "c82320a4",
   "metadata": {},
   "outputs": [
    {
     "data": {
      "text/plain": [
       "['#00', '#39', '#33']"
      ]
     },
     "execution_count": 16,
     "metadata": {},
     "output_type": "execute_result"
    }
   ],
   "source": [
    "rgb = [0.0001*255, 0.2244*255, 0.2010*255]\n",
    "[f\"#{int(v):02x}\" for v in rgb]"
   ]
  }
 ],
 "metadata": {
  "kernelspec": {
   "display_name": "Python 3 (ipykernel)",
   "language": "python",
   "name": "python3"
  },
  "language_info": {
   "codemirror_mode": {
    "name": "ipython",
    "version": 3
   },
   "file_extension": ".py",
   "mimetype": "text/x-python",
   "name": "python",
   "nbconvert_exporter": "python",
   "pygments_lexer": "ipython3",
   "version": "3.8.10"
  }
 },
 "nbformat": 4,
 "nbformat_minor": 5
}
