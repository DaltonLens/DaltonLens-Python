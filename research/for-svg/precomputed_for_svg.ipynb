{
 "cells": [
  {
   "cell_type": "code",
   "execution_count": 57,
   "id": "920d306f",
   "metadata": {},
   "outputs": [
    {
     "name": "stdout",
     "output_type": "stream",
     "text": [
      "The autoreload extension is already loaded. To reload it, use:\n",
      "  %reload_ext autoreload\n"
     ]
    }
   ],
   "source": [
    "%load_ext autoreload\n",
    "%autoreload 2"
   ]
  },
  {
   "cell_type": "code",
   "execution_count": 58,
   "id": "ebeb2d46-a94d-4f01-af3f-2b1c6f000b16",
   "metadata": {},
   "outputs": [],
   "source": [
    "import io, math, os, sys\n",
    "from base64 import b64decode\n",
    "from pathlib import Path\n",
    "from IPython.core.display import HTML\n",
    "\n",
    "import matplotlib.pyplot as plt\n",
    "import numpy as np\n",
    "\n",
    "import PIL\n",
    "\n",
    "# Install daltonlens if necessary\n",
    "try:\n",
    "    from daltonlens import convert, simulate\n",
    "except ImportError:\n",
    "    !pip install -q daltonlens\n",
    "    from daltonlens import convert, simulate\n",
    "    \n",
    "# Uncomment to get interactive plots.\n",
    "# %matplotlib notebook"
   ]
  },
  {
   "cell_type": "markdown",
   "id": "a14edad2-dbd7-4ab2-b50b-062ed657e179",
   "metadata": {},
   "source": [
    "# Introduction\n",
    "\n",
    "Goal is to generate the precomputed matrices / parameters needed by libDaltonLens SVG filters to implement the Brettel approach."
   ]
  },
  {
   "cell_type": "markdown",
   "id": "adaa213e-8d24-430c-ab06-4f329fd0a60e",
   "metadata": {},
   "source": [
    "# Brettel 1997 with sRGB"
   ]
  },
  {
   "cell_type": "code",
   "execution_count": 59,
   "id": "879f72cb-f3a6-46cc-b22c-bfcc9f38ec66",
   "metadata": {
    "scrolled": false
   },
   "outputs": [
    {
     "name": "stdout",
     "output_type": "stream",
     "text": [
      "static float LMS_from_linearRGB[] = {\n",
      "    0.17886, 0.43997, 0.03597,\n",
      "    0.03380, 0.27515, 0.03621,\n",
      "    0.00031, 0.00192, 0.01528\n",
      "};\n",
      "\n",
      "static float linearRGB_from_LMS[] = {\n",
      "    8.00533, -12.88195, 11.68065,\n",
      "    -0.97821, 5.26945, -10.18300,\n",
      "    -0.04017, -0.39885, 66.48079\n",
      "};\n",
      "\n",
      "struct DLBrettel1997Params\n",
      "{\n",
      "    int lmsElementToProject;\n",
      "    float projectionOnPlane1[3];\n",
      "    float projectionOnPlane2[3];\n",
      "    float separationPlaneNormal[3];\n",
      "};\n",
      "\n",
      "static struct DLBrettel1997Params brettel_protan_params = {\n",
      "    0, // only this LMS coordinate is affected for protan\n",
      "    { 0.00000, 2.18394, -5.65554 }, // Projection to plane 1\n",
      "    { 0.00000, 2.16614, -5.30455 }, // Projection to plane 2\n",
      "    { 0.00000, 0.01751, -0.34516 }  // Normal of the separation plane to pick the projection plane.\n",
      "};\n",
      "\n",
      "static float brettel_protan_rgbCvd_from_rgb_1[] = {\n",
      "    0.14510, 1.20165, -0.34675,\n",
      "    0.10447, 0.85316, 0.04237,\n",
      "    0.00429, -0.00603, 1.00174\n",
      "};\n",
      "\n",
      "static float brettel_protan_rgbCvd_from_rgb_2[] = {\n",
      "    0.14115, 1.16782, -0.30897,\n",
      "    0.10495, 0.85730, 0.03776,\n",
      "    0.00431, -0.00586, 1.00155\n",
      "};\n",
      "\n",
      "static float brettel_protan_dotSepPlaneInRgb[] = {\n",
      "    0.77550, 6.65135, -7.42685\n",
      "};\n",
      "\n",
      "static float LMS_from_linearRGB[] = {\n",
      "    0.17886, 0.43997, 0.03597,\n",
      "    0.03380, 0.27515, 0.03621,\n",
      "    0.00031, 0.00192, 0.01528\n",
      "};\n",
      "\n",
      "static float linearRGB_from_LMS[] = {\n",
      "    8.00533, -12.88195, 11.68065,\n",
      "    -0.97821, 5.26945, -10.18300,\n",
      "    -0.04017, -0.39885, 66.48079\n",
      "};\n",
      "\n",
      "struct DLBrettel1997Params\n",
      "{\n",
      "    int lmsElementToProject;\n",
      "    float projectionOnPlane1[3];\n",
      "    float projectionOnPlane2[3];\n",
      "    float separationPlaneNormal[3];\n",
      "};\n",
      "\n",
      "static struct DLBrettel1997Params brettel_deutan_params = {\n",
      "    1, // only this LMS coordinate is affected for deutan\n",
      "    { 0.46165, 0.00000, 2.44885 }, // Projection to plane 1\n",
      "    { 0.45789, 0.00000, 2.58960 }, // Projection to plane 2\n",
      "    { -0.01751, 0.00000, 0.65480 }  // Normal of the separation plane to pick the projection plane.\n",
      "};\n",
      "\n",
      "static float brettel_deutan_rgbCvd_from_rgb_1[] = {\n",
      "    0.36198, 0.86755, -0.22953,\n",
      "    0.26099, 0.64512, 0.09389,\n",
      "    -0.01975, 0.02686, 0.99289\n",
      "};\n",
      "\n",
      "static float brettel_deutan_rgbCvd_from_rgb_2[] = {\n",
      "    0.37009, 0.88540, -0.25549,\n",
      "    0.25767, 0.63782, 0.10451,\n",
      "    -0.01950, 0.02741, 0.99209\n",
      "};\n",
      "\n",
      "static float brettel_deutan_dotSepPlaneInRgb[] = {\n",
      "    -2.49188, -5.48778, 7.97965\n",
      "};\n",
      "\n",
      "static float LMS_from_linearRGB[] = {\n",
      "    0.17886, 0.43997, 0.03597,\n",
      "    0.03380, 0.27515, 0.03621,\n",
      "    0.00031, 0.00192, 0.01528\n",
      "};\n",
      "\n",
      "static float linearRGB_from_LMS[] = {\n",
      "    8.00533, -12.88195, 11.68065,\n",
      "    -0.97821, 5.26945, -10.18300,\n",
      "    -0.04017, -0.39885, 66.48079\n",
      "};\n",
      "\n",
      "struct DLBrettel1997Params\n",
      "{\n",
      "    int lmsElementToProject;\n",
      "    float projectionOnPlane1[3];\n",
      "    float projectionOnPlane2[3];\n",
      "    float separationPlaneNormal[3];\n",
      "};\n",
      "\n",
      "static struct DLBrettel1997Params brettel_tritan_params = {\n",
      "    2, // only this LMS coordinate is affected for tritan\n",
      "    { -0.00213, 0.05477, 0.00000 }, // Projection to plane 1\n",
      "    { -0.06195, 0.16826, 0.00000 }, // Projection to plane 2\n",
      "    { 0.34516, -0.65480, 0.00000 }  // Normal of the separation plane to pick the projection plane.\n",
      "};\n",
      "\n",
      "static float brettel_tritan_rgbCvd_from_rgb_1[] = {\n",
      "    1.01354, 0.14268, -0.15622,\n",
      "    -0.01181, 0.87561, 0.13619,\n",
      "    0.07707, 0.81208, 0.11085\n",
      "};\n",
      "\n",
      "static float brettel_tritan_rgbCvd_from_rgb_2[] = {\n",
      "    0.93337, 0.19999, -0.13336,\n",
      "    0.05809, 0.82565, 0.11626,\n",
      "    -0.37923, 1.13825, 0.24098\n",
      "};\n",
      "\n",
      "static float brettel_tritan_dotSepPlaneInRgb[] = {\n",
      "    7.92482, -5.66475, -2.26007\n",
      "};\n",
      "\n"
     ]
    },
    {
     "data": {
      "text/plain": [
       "array([[[0, 0, 0]]], dtype=uint8)"
      ]
     },
     "execution_count": 59,
     "metadata": {},
     "output_type": "execute_result"
    }
   ],
   "source": [
    "simulator = simulate.Simulator_Brettel1997(convert.LMSModel_sRGB_SmithPokorny75(), use_white_as_neutral=True)\n",
    "simulator.dumpPrecomputedValues = True\n",
    "np.set_printoptions(precision=4, suppress=True)\n",
    "\n",
    "simulator.simulate_cvd(np.zeros((1,1,3), dtype=np.uint8), simulate.Deficiency.PROTAN, severity=1.0)\n",
    "simulator.simulate_cvd(np.zeros((1,1,3), dtype=np.uint8), simulate.Deficiency.DEUTAN, severity=1.0)\n",
    "simulator.simulate_cvd(np.zeros((1,1,3), dtype=np.uint8), simulate.Deficiency.TRITAN, severity=1.0)"
   ]
  }
 ],
 "metadata": {
  "kernelspec": {
   "display_name": "Python 3 (ipykernel)",
   "language": "python",
   "name": "python3"
  },
  "language_info": {
   "codemirror_mode": {
    "name": "ipython",
    "version": 3
   },
   "file_extension": ".py",
   "mimetype": "text/x-python",
   "name": "python",
   "nbconvert_exporter": "python",
   "pygments_lexer": "ipython3",
   "version": "3.8.10"
  }
 },
 "nbformat": 4,
 "nbformat_minor": 5
}
