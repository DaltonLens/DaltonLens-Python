{
 "cells": [
  {
   "cell_type": "code",
   "execution_count": 8,
   "id": "f4510992",
   "metadata": {},
   "outputs": [
    {
     "name": "stdout",
     "output_type": "stream",
     "text": [
      "The autoreload extension is already loaded. To reload it, use:\n",
      "  %reload_ext autoreload\n"
     ]
    }
   ],
   "source": [
    "%load_ext autoreload\n",
    "%autoreload 2\n",
    "\n",
    "import io, math, os, sys\n",
    "from base64 import b64decode\n",
    "from pathlib import Path\n",
    "from IPython.core.display import HTML\n",
    "\n",
    "import matplotlib.pyplot as plt\n",
    "import numpy as np\n",
    "\n",
    "import PIL\n",
    "\n",
    "# Install daltonlens if necessary\n",
    "try:\n",
    "    from daltonlens import convert, simulate, generate\n",
    "except ImportError:\n",
    "    %pip install -q daltonlens\n",
    "    from daltonlens import convert, simulate, generate\n",
    "\n",
    "# Uncomment to get interactive plots.\n",
    "# %matplotlib notebook"
   ]
  },
  {
   "cell_type": "code",
   "execution_count": 12,
   "id": "joint-ready",
   "metadata": {},
   "outputs": [],
   "source": [
    "PIL.Image.fromarray(generate.randomized_rgb_span(216, 216)).save(\"rgbspan_randomized.png\")"
   ]
  },
  {
   "cell_type": "code",
   "execution_count": 10,
   "id": "3248c85b",
   "metadata": {},
   "outputs": [
    {
     "data": {
      "text/plain": [
       "<matplotlib.image.AxesImage at 0x7f27f704bb20>"
      ]
     },
     "execution_count": 10,
     "metadata": {},
     "output_type": "execute_result"
    },
    {
     "data": {
      "image/png": "[encoded data removed]",
      "text/plain": [
       "<Figure size 432x288 with 1 Axes>"
      ]
     },
     "metadata": {
      "needs_background": "light"
     },
     "output_type": "display_data"
    }
   ],
   "source": [
    "plt.imshow(generate.rgb_span(216, 216))"
   ]
  }
 ],
 "metadata": {
  "kernelspec": {
   "display_name": "Python 3 (ipykernel)",
   "language": "python",
   "name": "python3"
  },
  "language_info": {
   "codemirror_mode": {
    "name": "ipython",
    "version": 3
   },
   "file_extension": ".py",
   "mimetype": "text/x-python",
   "name": "python",
   "nbconvert_exporter": "python",
   "pygments_lexer": "ipython3",
   "version": "3.8.10"
  }
 },
 "nbformat": 4,
 "nbformat_minor": 5
}
